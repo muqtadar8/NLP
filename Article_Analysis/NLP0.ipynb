{
  "nbformat": 4,
  "nbformat_minor": 0,
  "metadata": {
    "colab": {
      "provenance": []
    },
    "kernelspec": {
      "name": "python3",
      "display_name": "Python 3"
    },
    "language_info": {
      "name": "python"
    }
  },
  "cells": [
    {
      "cell_type": "markdown",
      "source": [
        "### Importing Libraries and Dependencies"
      ],
      "metadata": {
        "id": "DpK5lWVF7QCn"
      }
    },
    {
      "cell_type": "code",
      "execution_count": null,
      "metadata": {
        "colab": {
          "base_uri": "https://localhost:8080/"
        },
        "id": "1wgrrewpZfiX",
        "outputId": "78a4f3cf-5cb3-4a4d-d1b0-978477a7984b"
      },
      "outputs": [
        {
          "output_type": "stream",
          "name": "stdout",
          "text": [
            "Requirement already satisfied: pyphen in /usr/local/lib/python3.10/dist-packages (0.14.0)\n"
          ]
        },
        {
          "output_type": "stream",
          "name": "stderr",
          "text": [
            "[nltk_data] Downloading package punkt to /root/nltk_data...\n",
            "[nltk_data]   Package punkt is already up-to-date!\n"
          ]
        },
        {
          "output_type": "execute_result",
          "data": {
            "text/plain": [
              "True"
            ]
          },
          "metadata": {},
          "execution_count": 46
        }
      ],
      "source": [
        "import pandas as pd\n",
        "import numpy as np\n",
        "from bs4 import BeautifulSoup\n",
        "import requests\n",
        "import re\n",
        "import nltk\n",
        "from nltk.corpus import words\n",
        "from nltk.tokenize import word_tokenize\n",
        "import string\n",
        "import unicodedata\n",
        "!pip install pyphen\n",
        "nltk.download('punkt')"
      ]
    },
    {
      "cell_type": "markdown",
      "source": [
        "## Data Acquisition"
      ],
      "metadata": {
        "id": "oe_72ChQZyrR"
      }
    },
    {
      "cell_type": "code",
      "source": [
        "input = pd.read_excel('/content/Input.xlsx')\n",
        "urls = input['URL']\n",
        "filenames = input['URL_ID']"
      ],
      "metadata": {
        "id": "ALRB2cuCZx-Y"
      },
      "execution_count": null,
      "outputs": []
    },
    {
      "cell_type": "code",
      "source": [
        "urls[0]"
      ],
      "metadata": {
        "colab": {
          "base_uri": "https://localhost:8080/",
          "height": 36
        },
        "id": "tFJJd-TxCV_p",
        "outputId": "370592fc-901a-431e-813c-78a5e011f674"
      },
      "execution_count": null,
      "outputs": [
        {
          "output_type": "execute_result",
          "data": {
            "text/plain": [
              "'https://insights.blackcoffer.com/rise-of-telemedicine-and-its-impact-on-livelihood-by-2040-3-2/'"
            ],
            "application/vnd.google.colaboratory.intrinsic+json": {
              "type": "string"
            }
          },
          "metadata": {},
          "execution_count": 48
        }
      ]
    },
    {
      "cell_type": "code",
      "source": [
        "def data_extraction(urls):\n",
        "  extracted_ptags=[]\n",
        "  titles = []\n",
        "  for i in urls:\n",
        "    try:\n",
        "      response = requests.get(i)\n",
        "      soup = BeautifulSoup(response.content, 'html.parser')\n",
        "      title = str(soup.title)\n",
        "      # Extract all <p> tags\n",
        "      p_tags = soup.find_all('p')\n",
        "      extracted_ptags.append(str(p_tags[16:-3]))\n",
        "      titles.append(title)\n",
        "    except Exception as e:\n",
        "      print(f\"Error processing URL :\",i)\n",
        "  return extracted_ptags,titles\n",
        "\n",
        "ptags,titles = data_extraction(urls)\n"
      ],
      "metadata": {
        "id": "43e_QtTdaDmF"
      },
      "execution_count": null,
      "outputs": []
    },
    {
      "cell_type": "code",
      "source": [
        "ptags[0]"
      ],
      "metadata": {
        "colab": {
          "base_uri": "https://localhost:8080/",
          "height": 123
        },
        "id": "4qfWzaOVYGUs",
        "outputId": "40cfeb7c-8f3e-4e16-eb1d-e3d22a24c561"
      },
      "execution_count": null,
      "outputs": [
        {
          "output_type": "execute_result",
          "data": {
            "text/plain": [
              "'[<p>Telemedicine, the use of technology to diagnose and treat patients remotely, has been rising in recent years. With the advent of high-speed internet and improved video conferencing tools, healthcare providers are increasingly turning to telemedicine to provide care to patients in remote or underserved areas.</p>, <p><strong>Telemedicine</strong>, using technology to provide healthcare services remotely, has recently gained popularity. With advancements in communication and medical technology, it has become increasingly possible for doctors and patients to connect and interact from anywhere in the world. This has led to the rise of telemedicine, which has the potential to revolutionize the way healthcare is delivered<strong>.#Telemedicine</strong></p>, <p>The increasing focus on preventative healthcare has also driven the rise of telemedicine. As more and more people become aware of the importance of staying healthy, they are looking for ways to prevent illness and maintain their health. Telemedicine allows people to monitor their health and get advice from healthcare providers without traveling to a clinic or hospital.</p>, <p>Improved access to <strong>healthcare</strong>: One of the biggest challenges in the healthcare industry is the unequal distribution of medical resources, with many remote and rural areas lacking access to quality care. Telemedicine can help bridge this gap by allowing patients in these underserved areas to connect with healthcare providers worldwide. This can give people access to specialized medical care that they would otherwise not be able to receive, improving their health and overall well-being<strong>.#Healthcare</strong></p>, <p>Greater convenience and flexibility: Telemedicine also offers a level of <strong>convenience</strong> and <strong>flexibility</strong> that is impossible with traditional in-person medical visits. Patients can consult with their healthcare providers from the comfort of their own homes, saving time and money on travel. This is particularly beneficial for individuals who have mobility issues or who live in areas with limited access to <strong>medical facilities.</strong></p>, <p><strong>Reduced healthcare costs</strong>: By enabling patients to receive care remotely, telemedicine can help reduce the overall cost of healthcare. This is because telemedicine visits are generally less expensive than in-person visits and can help prevent the need for more costly interventions, such as hospitalizations. As a result, telemedicine has the potential to make healthcare more affordable for patients and healthcare providers alike<strong>.#Costs</strong></p>, <p><strong>Enhanced healthcare outcomes</strong>: Telemedicine can also improve patients’ quality of care. By allowing healthcare providers to access medical records and other important information remotely, telemedicine can help ensure that patients receive the most appropriate care for their needs. This can lead to better health outcomes and a higher quality of life for patients<strong>.#Enhanced</strong></p>, <p>More significant <strong>job opportunities</strong> in the healthcare industry like healthcare sector, including for healthcare providers, support staff, and technology experts. This can provide a boost to local <strong>economies </strong>and help to reduce unemployment<strong>.#Jobs</strong></p>, <p><strong>Better care</strong> for chronic conditions: Telemedicine can help patients with chronic conditions to manage their health more effectively, allowing them to receive regular check-ups and treatment without the need to travel long distances. This can improve the quality of life for these individuals and reduce the risk of complications from their conditions.</p>, <p>Increased flexibility for patients and healthcare providers: Telemedicine allows patients and providers to schedule consultations at times convenient for them, improving the overall flexibility of the healthcare system. This can help to reduce wait times and improve patient satisfaction.</p>, <p>Increased accessibility: Telemedicine makes healthcare more accessible to people living in rural and remote areas, who may not have easy access to medical facilities. With telemedicine, patients can consult with doctors and specialists from their homes using their phones, computers, or other devices. This means that more people will be able to get the medical care they need, regardless of where they live.</p>, <p>Reduced costs: One of the most significant benefits of telemedicine is that it can reduce healthcare costs. Patients can avoid the costs of travel, accommodation, and time off work associated with in-person visits to the doctor. Telemedicine can also help reduce the cost of medical procedures, as doctors can remotely monitor patients and provide care without needing hospitalization.</p>, <p>Improved health outcomes: By providing patients with access to medical care from the comfort of their own homes, telemedicine can help improve their health outcomes. For example, patients with chronic conditions can use telemedicine to manage their symptoms and reduce the risk of complications. Telemedicine can also help prevent the spread of infectious diseases, as patients can receive care without contacting other people.</p>, <p>Increased convenience: Telemedicine offers a more convenient option for patients who need medical care. With telemedicine, patients can schedule appointments and consult with doctors at a convenient time without having to take time off work or arrange transportation. This can be especially beneficial for people with busy schedules or mobility issues.</p>, <p>Telemedicine, or the use of electronic communication and information technologies to provide healthcare services remotely, has the potential to significantly impact the way we receive and deliver medical care. In the next 20 years, telemedicine will likely become an increasingly important part of our healthcare system, providing numerous benefits and improving the livelihood of many people.</p>, <p>The benefits of telemedicine are numerous. For patients, it provides convenient access to medical care without traveling long distances. It also allows for faster diagnosis and treatment and improved continuity of care. For healthcare providers, telemedicine can reduce the strain on already-overburdened healthcare systems and make providing care to patients in remote areas more accessible.</p>, <p>The rise of telemedicine will likely significantly impact how we receive medical care in the future. By 2040, it is estimated that telemedicine will be a standard part of the healthcare landscape, with more and more doctors using it to diagnose and treat patients remotely.</p>, <p>One of the key drivers of the rise of telemedicine has been the increasing availability of high-speed internet and improved video conferencing tools. In the past, the video and audio quality of telemedicine consultations were often poor, making it difficult for doctors to diagnose and treat patients accurately. However, with faster internet speeds and better video conferencing tools, telemedicine consultations are just as good as in-person visits.</p>, <p>Telemedicine makes healthcare more accessible. With telemedicine, patients no longer travel long distances to see a doctor or specialist. Instead, they can receive care from the comfort of their own home. This is particularly beneficial for people living in rural areas, where access to healthcare can be limited.</p>, <p>Another factor contributing to the rise of telemedicine is the increasing demand for healthcare services. With the global population growing and people living longer, the need for medical care will only continue to increase. Telemedicine offers a way for healthcare providers to meet this demand by allowing them to provide care to more patients in a shorter amount of time.</p>, <p>Another substantial impact of telemedicine is that it can improve patient quality of care. By using technology to connect patients with doctors, telemedicine can help ensure patients receive the best care possible. For example, a doctor can use video conferencing to consult with a specialist or use remote monitoring devices to track a patient’s vital signs. This can help doctors make more informed decisions and provide better treatment.</p>, <p>Telemedicine also has the potential to reduce healthcare costs. By allowing patients to receive care from their homes, telemedicine can reduce the need for expensive hospital visits. In addition, telemedicine can help prevent the spread of infectious diseases, reducing healthcare costs by avoiding hospitalization.</p>, <p>One of the critical impacts of telemedicine is that it can improve the patient experience. By providing patients with the ability to receive care from the comfort of their own homes, telemedicine can help reduce anxiety and stress. In addition, telemedicine can make it easier for patients to communicate with their doctors and get the answers they need.</p>, <p>Another way in which telemedicine will impact people’s livelihoods is by making healthcare more efficient. By allowing doctors to diagnose and treat patients remotely, telemedicine will help reduce the time patients spend waiting to see a doctor. It will also help reduce doctors’ spending on administrative tasks, freeing them up to see more patients and provide better care.</p>, <p>One major factor driving the rise of telemedicine is the increasing use of technology in healthcare. With advances in communication and medical technology, it is now possible for doctors and other healthcare providers to remotely diagnose and treat patients using video conferencing, remote monitoring, and other forms of telemedicine. This not only allows for more efficient and convenient healthcare delivery but also enables healthcare providers to offer specialized care to patients who otherwise may not have access to it.</p>, <p>Another factor contributing to the rise of telemedicine is the need for improved access to healthcare. Patients may travel long distances in many rural and underserved areas; patients may travel long distances to access medical care. Telemedicine can bridge this gap by allowing patients in these areas to consult with healthcare providers remotely. This not only improves access to healthcare but also reduces the need for patients to travel long distances, saving them time and money.</p>, <p>Finally, telemedicine’s rise is also driven by the growing trend of remote work. As more and more people work from home or other remote locations, the need for convenient and accessible healthcare is increasing. Telemedicine allows employees to consult with healthcare providers from their homes, reducing the need for them to take time off work to visit a doctor or other healthcare provider.</p>, <p>Overall, the rise of telemedicine by 2040 is a result of a combination of factors, including the increasing use of technology in healthcare, the need for improved access to healthcare, and the growing trend of remote work. As these factors continue to evolve, likely, telemedicine will likely become an increasingly important part of the healthcare landscape.</p>, <p>However, the rise of telemedicine is also likely to present some challenges. For example, telemedicine consultations may only be suitable for some medical conditions, and some patients may still need to see a doctor. Additionally, telemedicine may put some jobs at risk, such as receptionists and other administrative staff in healthcare facilities.</p>]'"
            ],
            "application/vnd.google.colaboratory.intrinsic+json": {
              "type": "string"
            }
          },
          "metadata": {},
          "execution_count": 50
        }
      ]
    },
    {
      "cell_type": "code",
      "source": [
        "from nltk.tokenize import sent_tokenize\n",
        "def extracted_sentences(text):\n",
        "  sentences = []\n",
        "  for i in text:\n",
        "    sents = sent_tokenize(i)\n",
        "    sentences.append(sents)\n",
        "  return sentences\n",
        "sentences = extracted_sentences(ptags)\n",
        "# sentences"
      ],
      "metadata": {
        "id": "NrIYNoDuYkFU"
      },
      "execution_count": null,
      "outputs": []
    },
    {
      "cell_type": "code",
      "source": [
        "allptags = ptags"
      ],
      "metadata": {
        "id": "s0h7RSv4HFZ1"
      },
      "execution_count": null,
      "outputs": []
    },
    {
      "cell_type": "markdown",
      "source": [
        "## Cleaning Data\n",
        "\n",
        "\n",
        "\n",
        "\n"
      ],
      "metadata": {
        "id": "r3fGN-xtpjBq"
      }
    },
    {
      "cell_type": "code",
      "source": [
        "ex = string.punctuation\n",
        "def data_processing(tags):\n",
        "  for texT in range(len(tags)):\n",
        "    # Remove HTML tags using regex\n",
        "    tags[texT] = re.sub('<.*?>', '', tags[texT])\n",
        "\n",
        "    #Removing hash tags\n",
        "    tags[texT]= re.sub(r'#\\w+', '', tags[texT])\n",
        "\n",
        "    # Convert text to lowercase\n",
        "    tags[texT] = tags[texT].lower()\n",
        "\n",
        "    # Removing URLS\n",
        "    tags[texT] = re.sub(r'https?://\\S+|www\\.\\S+','',tags[texT])\n",
        "\n",
        "    # Removing punctuations\n",
        "    for j in ex:\n",
        "      tags[texT] = tags[texT].replace(j,\"\")\n",
        "\n",
        "    #Removing \\xa0\n",
        "    tags[texT] = unicodedata.normalize('NFKD', tags[texT])\n",
        "\n",
        "    #Removind \\n\n",
        "    tags[texT]= re.sub(r\"\\n\",\" \",tags[texT])\n",
        "\n",
        "  return tags\n",
        "\n",
        "extracted_text = data_processing(ptags)\n"
      ],
      "metadata": {
        "id": "hEyTPiDeeK8V"
      },
      "execution_count": null,
      "outputs": []
    },
    {
      "cell_type": "markdown",
      "source": [
        "# Individual Article files with url id's as their name"
      ],
      "metadata": {
        "id": "FM7ALdh5Af1U"
      }
    },
    {
      "cell_type": "code",
      "source": [
        "for i in range(len(input['URL_ID'])):\n",
        "  filename = f\"{input['URL_ID'][i]}.txt\"\n",
        "  x = re.sub('<.*?>', '', titles[i])\n",
        "  with open(filename,\"w\") as f:\n",
        "    f.write(f\"{x}\\n\\n{extracted_text[i]}\")\n",
        "  break #to stop after 1 iteration\n",
        "\n"
      ],
      "metadata": {
        "id": "oAiABbUcAfiS"
      },
      "execution_count": null,
      "outputs": []
    },
    {
      "cell_type": "markdown",
      "source": [
        "# Predefined Stop Words extraction"
      ],
      "metadata": {
        "id": "HXuv_4PG6TRx"
      }
    },
    {
      "cell_type": "code",
      "source": [
        "stopurls = ['/content/StopWords_Auditor.txt','/content/StopWords_Currencies.txt','/content/StopWords_DatesandNumbers.txt','/content/StopWords_Generic.txt','/content/StopWords_GenericLong.txt','/content/StopWords_Geographic.txt','/content/StopWords_Names.txt']"
      ],
      "metadata": {
        "id": "9vH7JtEC5_YY"
      },
      "execution_count": null,
      "outputs": []
    },
    {
      "cell_type": "code",
      "source": [
        "def stopwords(urls):\n",
        "  x=[]\n",
        "  for i in urls:\n",
        "    with open(i, 'r',encoding = 'latin-1') as file:\n",
        "        # Read the entire content of the file\n",
        "        content = file.read()\n",
        "        # Print the content\n",
        "        # print(content)\n",
        "    words = content.split()\n",
        "    # print(words)\n",
        "    x+=words\n",
        "  return x\n",
        "\n",
        "\n",
        "stop = stopwords(stopurls)\n",
        "\n"
      ],
      "metadata": {
        "id": "EPvNZylK53_4"
      },
      "execution_count": null,
      "outputs": []
    },
    {
      "cell_type": "code",
      "source": [
        "import string\n",
        "ex = string.punctuation\n",
        "def rem_punc(text):\n",
        "  for i in ex:\n",
        "    for j in range(len(text)):\n",
        "     text[j] = text[j].replace(i,\"\")\n",
        "\n",
        "  return text\n",
        "finalstop = rem_punc(stop)\n",
        "# finalstop\n",
        "\n",
        "# Specify the file path\n",
        "file_path = \"stopwords.txt\"\n",
        "\n",
        "# Open the file in write mode and create it if it doesn't exist\n",
        "with open(file_path, \"w\") as file:\n",
        "    for item in finalstop:\n",
        "        file.write(item + \"\\n\")\n",
        "\n",
        "print(\"Text file created successfully.\")"
      ],
      "metadata": {
        "colab": {
          "base_uri": "https://localhost:8080/"
        },
        "id": "OSt3Tv5YACez",
        "outputId": "bde39d8f-6f28-483b-80ca-3e4bb958b6bf"
      },
      "execution_count": null,
      "outputs": [
        {
          "output_type": "stream",
          "name": "stdout",
          "text": [
            "Text file created successfully.\n"
          ]
        }
      ]
    },
    {
      "cell_type": "markdown",
      "source": [
        "# Pre defined Stop words Removal and extracting all the words in an article"
      ],
      "metadata": {
        "id": "_QlZxH6JqyLS"
      }
    },
    {
      "cell_type": "code",
      "source": [
        "def rem_stop_words(text,stopwords):\n",
        "  words =[]\n",
        "  allwords = []\n",
        "  # with open(\"stopwords.txt\",'r') as f:\n",
        "  #   stopwords = f.read()\n",
        "  #   stopwords = stopwords.split()\n",
        "\n",
        "  for i in range(len(text)):\n",
        "    l = []\n",
        "    tokens = word_tokenize(text[i])\n",
        "    # print(tokens)\n",
        "    for i in tokens:\n",
        "      if i not in stopwords:\n",
        "        l.append(i)\n",
        "    allwords.append(tokens)\n",
        "    words.append(l)\n",
        "  return words,allwords\n",
        "\n",
        "words,allwords = rem_stop_words(extracted_text,finalstop)\n",
        "\n",
        "# words"
      ],
      "metadata": {
        "id": "R46tTUFlxD84"
      },
      "execution_count": null,
      "outputs": []
    },
    {
      "cell_type": "markdown",
      "source": [
        "## Feature Extraction\n",
        "1. POSITIVE SCORE\n",
        "2. NEGATIVE SCORE\n",
        "3. POLARITY SCORE\n",
        "4. SUBJECTIVITY SCORE\n",
        "5. AVG SENTENCE LENGTH\n",
        "6. COUNT OF COMPLEX WORDS\n",
        "7. FOG INDEX\n",
        "8. AVG NUMBER OF WORDS PER SENTENCE\n",
        "9. COMPLEX WORD COUNT\n",
        "10. WORD COUNT\n",
        "11. SYLLABLE PER WORD\n",
        "12. PERSONAL PRONOUNS\n",
        "13. AVG WORD LENGTH\n"
      ],
      "metadata": {
        "id": "TJQEUN8n6MO6"
      }
    },
    {
      "cell_type": "markdown",
      "source": [
        "POSITIVE SCORE"
      ],
      "metadata": {
        "id": "Q1PnixrA7e-9"
      }
    },
    {
      "cell_type": "code",
      "source": [
        "with open('/content/Positive-words.txt', 'r') as file:\n",
        "    # Read the entire content of the file\n",
        "    content = file.read()\n",
        "pos_words = content.split()\n",
        "\n",
        "def pos_score(words,pos_words):\n",
        "  scores = []\n",
        "  for i in words:\n",
        "    positive_score = 0\n",
        "    for j in i:\n",
        "      if j in pos_words:\n",
        "        positive_score+=1\n",
        "    scores.append(positive_score)\n",
        "  return scores\n",
        "positive_scores = pos_score(words,pos_words)\n",
        "# positive_scores\n"
      ],
      "metadata": {
        "id": "FzyAQjw77eq-"
      },
      "execution_count": null,
      "outputs": []
    },
    {
      "cell_type": "markdown",
      "source": [
        "NEGATIVE SCORE"
      ],
      "metadata": {
        "id": "nACKSVtd8HsL"
      }
    },
    {
      "cell_type": "code",
      "source": [
        "with open('/content/Negative-words.txt','r',encoding='latin-1') as file:\n",
        "    # Read the entire content of the file\n",
        "    content = file.read()\n",
        "neg_words = content.split()\n",
        "\n",
        "def pos_score(words,neg_words):\n",
        "  scores = []\n",
        "  for i in words:\n",
        "    negative_score = 0\n",
        "    for j in i:\n",
        "      if j in neg_words:\n",
        "        negative_score+=1\n",
        "    scores.append(negative_score)\n",
        "  return scores\n",
        "negative_scores = pos_score(words,neg_words)\n",
        "# negative_scores\n"
      ],
      "metadata": {
        "id": "SjlJP3gO7jlT"
      },
      "execution_count": null,
      "outputs": []
    },
    {
      "cell_type": "markdown",
      "source": [
        "# POLARITY SCORE\n",
        " Polarity Score = (Positive Score – Negative Score)/ ((Positive Score + Negative Score) +\n",
        " 0.000001)\n",
        "\n",
        "# Range is from -1 to +1\n"
      ],
      "metadata": {
        "id": "LeURf9xE_Y70"
      }
    },
    {
      "cell_type": "code",
      "source": [
        "\n",
        "def pol_scores(pos,neg):\n",
        "  pol=[]\n",
        "  for i in range(len(pos)):\n",
        "    p_score = (pos[i]-neg[i])/((pos[i]+neg[i])+0.000001)\n",
        "    pol.append(p_score)\n",
        "  return pol\n",
        "\n",
        "polarity_scores = pol_scores(positive_scores,negative_scores)\n",
        "# polarity_scores"
      ],
      "metadata": {
        "id": "8xhbS3XQ6KUd"
      },
      "execution_count": null,
      "outputs": []
    },
    {
      "cell_type": "markdown",
      "source": [
        "# SUBJECTIVITY SCORE\n",
        "Subjectivity Score = (Positive Score + Negative Score)/ ((Total Words after cleaning) + 0.000001)\n",
        "# Range is from 0 to +1"
      ],
      "metadata": {
        "id": "76Ty2loeBmOX"
      }
    },
    {
      "cell_type": "code",
      "source": [
        "def sub_scores(pos,neg):\n",
        "  sub=[]\n",
        "  for i in range(len(pos)):\n",
        "    p_score = (pos[i]+neg[i])/(len(words[i])+0.000001)\n",
        "    sub.append(p_score)\n",
        "  return sub\n",
        "\n",
        "subjectivity_scores = sub_scores(positive_scores,negative_scores)\n",
        "# subjectivity_scores"
      ],
      "metadata": {
        "id": "wZaQhk7EBl2-"
      },
      "execution_count": null,
      "outputs": []
    },
    {
      "cell_type": "markdown",
      "source": [
        "# COUNT OF COMPLEX WORDS"
      ],
      "metadata": {
        "id": "s6vwfvz3Pjzq"
      }
    },
    {
      "cell_type": "code",
      "source": [
        "\n",
        "import pyphen\n",
        "# Define a function to filter complex words\n",
        "def complex_words(words):\n",
        "  cw = []\n",
        "  for i in words:\n",
        "    w = []\n",
        "\n",
        "    # Filter complex words\n",
        "    def is_complex(word):\n",
        "      dic = pyphen.Pyphen(lang='en_US')\n",
        "      syllable_count = len(dic.inserted(word).split('-'))\n",
        "      return syllable_count > 2\n",
        "\n",
        "    complex_words = [word for word in i if is_complex(word)]\n",
        "  # Remove duplicates\n",
        "    # w = list(set(complex_words))\n",
        "    cw.append(complex_words)\n",
        "\n",
        "  return cw\n",
        "complex_words = complex_words(words)\n",
        "# complex_words\n"
      ],
      "metadata": {
        "id": "z0oWmIjePpOE"
      },
      "execution_count": null,
      "outputs": []
    },
    {
      "cell_type": "code",
      "source": [
        "complex_word_count = [len(i) for i in complex_words]\n",
        "# complex_word_count"
      ],
      "metadata": {
        "id": "8y7g6lgo8UNP"
      },
      "execution_count": null,
      "outputs": []
    },
    {
      "cell_type": "markdown",
      "source": [
        "\n",
        "#Analysis of Readability is calculated using the Gunning Fox index formula described below.\n",
        "\n",
        "Average Sentence Length = the number of words / the number of sentences\n",
        "\n",
        "Percentage of Complex words = the number of complex words / the number of words\n",
        "\n",
        "Fog Index = 0.4 * (Average Sentence Length + Percentage of Complex words)"
      ],
      "metadata": {
        "id": "199aJKU_PosL"
      }
    },
    {
      "cell_type": "code",
      "source": [
        "\n",
        "def avgSentenceLen(words,sentences):\n",
        "  avgsenlen = []\n",
        "  for i in range(len(sentences)):\n",
        "    lenght = len(words[i])/len(sentences[i])\n",
        "    avgsenlen.append(lenght)\n",
        "  return avgsenlen\n",
        "avgsenlen = avgSentenceLen(words,sentences)\n",
        "\n",
        "\n",
        "len(avgsenlen)\n"
      ],
      "metadata": {
        "colab": {
          "base_uri": "https://localhost:8080/"
        },
        "id": "p0hGgRVXP7LT",
        "outputId": "779a7497-18d9-413c-d8f0-825ab8ef1a7e"
      },
      "execution_count": null,
      "outputs": [
        {
          "output_type": "execute_result",
          "data": {
            "text/plain": [
              "114"
            ]
          },
          "metadata": {},
          "execution_count": 65
        }
      ]
    },
    {
      "cell_type": "code",
      "source": [
        "def complex_perc(complex_words,allwords):\n",
        "  cmplx = []\n",
        "  for i in range(len(complex_words)):\n",
        "    l = (len(complex_words[i])/len(allwords[i]))*100\n",
        "    cmplx.append(l)\n",
        "  return cmplx\n",
        "\n",
        "complex_percent = complex_perc(complex_words,allwords)\n",
        "len(complex_percent)"
      ],
      "metadata": {
        "colab": {
          "base_uri": "https://localhost:8080/"
        },
        "id": "SwfdUg2oeGU0",
        "outputId": "1d42d11a-44cf-4025-837c-560df3805cd7"
      },
      "execution_count": null,
      "outputs": [
        {
          "output_type": "execute_result",
          "data": {
            "text/plain": [
              "114"
            ]
          },
          "metadata": {},
          "execution_count": 84
        }
      ]
    },
    {
      "cell_type": "code",
      "source": [
        "def wordcount(words):\n",
        "  wc=[]\n",
        "  for i in words:\n",
        "    wc.append(len(i))\n",
        "  return wc\n",
        "wordcount = wordcount(words)\n",
        "# wordcount\n",
        "len(wordcount)"
      ],
      "metadata": {
        "colab": {
          "base_uri": "https://localhost:8080/"
        },
        "id": "bxMuepw06aAg",
        "outputId": "0845bb9f-c142-493e-ecbb-0f81e56bf366"
      },
      "execution_count": null,
      "outputs": [
        {
          "output_type": "execute_result",
          "data": {
            "text/plain": [
              "114"
            ]
          },
          "metadata": {},
          "execution_count": 67
        }
      ]
    },
    {
      "cell_type": "markdown",
      "source": [
        "# FOG INDEX\n",
        "Fog Index = 0.4 * (Average Sentence Length + Percentage of Complex words)"
      ],
      "metadata": {
        "id": "Yx6EFRisfKSL"
      }
    },
    {
      "cell_type": "code",
      "source": [
        "\n",
        "def fog(avgsenlen,complex_percent):\n",
        "  f = []\n",
        "  for i in range(len(complex_words)):\n",
        "    l = 0.4*(avgsenlen[i]+complex_percent[i])\n",
        "    f.append(l)\n",
        "  return f\n",
        "fog = fog(avgsenlen,complex_percent)\n",
        "len(fog)"
      ],
      "metadata": {
        "colab": {
          "base_uri": "https://localhost:8080/"
        },
        "id": "dszCqCftfF6t",
        "outputId": "6a47b988-c913-43f6-cf82-f2e6db36f0fb"
      },
      "execution_count": null,
      "outputs": [
        {
          "output_type": "execute_result",
          "data": {
            "text/plain": [
              "114"
            ]
          },
          "metadata": {},
          "execution_count": 68
        }
      ]
    },
    {
      "cell_type": "markdown",
      "source": [
        "# AVG NUMBER OF WORDS PER SENTENCE\n",
        "\n",
        "The formula for calculating is:\n",
        "Average Number of Words Per Sentence = the total number of words / the total number of\n",
        "sentences"
      ],
      "metadata": {
        "id": "-Z2_NzeoPgwu"
      }
    },
    {
      "cell_type": "code",
      "source": [
        "len(sentences[0])"
      ],
      "metadata": {
        "colab": {
          "base_uri": "https://localhost:8080/"
        },
        "id": "R2bglHChAv2D",
        "outputId": "21881ac6-f418-4580-cf8a-52915cf3dc72"
      },
      "execution_count": null,
      "outputs": [
        {
          "output_type": "execute_result",
          "data": {
            "text/plain": [
              "56"
            ]
          },
          "metadata": {},
          "execution_count": 69
        }
      ]
    },
    {
      "cell_type": "code",
      "source": [
        "newsent = extracted_sentences(ptags)\n",
        "def avgWordperSen(allwords,sentences):\n",
        "  avgWordperSen = []\n",
        "  for i in range(len(allwords)):\n",
        "    l = len(words[i])/len(sentences[i])\n",
        "    avgWordperSen.append(l)\n",
        "  return avgWordperSen\n",
        "\n",
        "avgNumWordperSen= avgWordperSen(allwords,sentences)\n",
        "len(avgNumWordperSen)"
      ],
      "metadata": {
        "colab": {
          "base_uri": "https://localhost:8080/"
        },
        "id": "eh71ekVQP-WK",
        "outputId": "f964d9ed-4761-4893-808b-99955c5b5846"
      },
      "execution_count": null,
      "outputs": [
        {
          "output_type": "execute_result",
          "data": {
            "text/plain": [
              "114"
            ]
          },
          "metadata": {},
          "execution_count": 70
        }
      ]
    },
    {
      "cell_type": "code",
      "source": [
        "avgNumWordperSen[1]"
      ],
      "metadata": {
        "colab": {
          "base_uri": "https://localhost:8080/"
        },
        "id": "CXScBBdCHzV4",
        "outputId": "898dc437-15e1-4e07-8d00-be30e1a4cb0e"
      },
      "execution_count": null,
      "outputs": [
        {
          "output_type": "execute_result",
          "data": {
            "text/plain": [
              "14.578947368421053"
            ]
          },
          "metadata": {},
          "execution_count": 71
        }
      ]
    },
    {
      "cell_type": "markdown",
      "source": [
        "# Syllable Count Per Word\n",
        "\n",
        "We count the number of Syllables in each word of the text by counting the vowels present in\n",
        "each word. We also handle some exceptions like words ending with \"es\",\"ed\" by not counting\n",
        "them as a syllable."
      ],
      "metadata": {
        "id": "2MoF02pOQCcR"
      }
    },
    {
      "cell_type": "code",
      "source": [
        "\n",
        "def count_syllables(word):\n",
        "    word = re.sub(r\"[^a-zA-Z]\", \"\", word)  # Remove non-alphabetic characters\n",
        "    # word = word.lower()  # Convert the word to lowercase\n",
        "\n",
        "    # Handle exceptions for words ending with \"es\" and \"ed\"\n",
        "    if word.endswith(\"es\") or word.endswith(\"ed\"):\n",
        "        return max(1, len(re.findall(r'[aeiouy]+', word))) - 1\n",
        "    else:\n",
        "        return max(1, len(re.findall(r'[aeiouy]+', word)))\n",
        "\n",
        "\n",
        "def syllables_per_word(allwords):\n",
        "  syword = []\n",
        "  for i in allwords:\n",
        "    s=0\n",
        "    for j in i:\n",
        "      sc= count_syllables(j)\n",
        "      s+=sc\n",
        "    syword.append(s/len(i))\n",
        "  return syword\n",
        "\n",
        "sylbsperword = syllables_per_word(allwords)\n",
        "\n",
        "len(sylbsperword)\n"
      ],
      "metadata": {
        "id": "03bfejW4QK38",
        "colab": {
          "base_uri": "https://localhost:8080/"
        },
        "outputId": "d664de19-1246-405c-e79d-3aa1cf5c82b5"
      },
      "execution_count": null,
      "outputs": [
        {
          "output_type": "execute_result",
          "data": {
            "text/plain": [
              "114"
            ]
          },
          "metadata": {},
          "execution_count": 72
        }
      ]
    },
    {
      "cell_type": "markdown",
      "source": [
        "# Personal Pronouns\n",
        "To calculate Personal Pronouns mentioned in the text, we use regex to find the counts of the\n",
        "words - “I,” “we,” “my,” “ours,” and “us”. Special care is taken so that the country name US\n",
        "is not included in the list.\n"
      ],
      "metadata": {
        "id": "jss1jq5XQLO1"
      }
    },
    {
      "cell_type": "code",
      "source": [
        "newsent = extracted_sentences(ptags)\n",
        "def pp(sentences):\n",
        "  p = [' i ',\"we\",\"my\",\"ours\",\"us\"]\n",
        "  s = []\n",
        "  for i in sentences:\n",
        "    for j in i:\n",
        "      k = 0\n",
        "      for a in p:\n",
        "        m = re.findall(a,j)\n",
        "        k+=(len(m))\n",
        "    s.append(k)\n",
        "  return s\n",
        "personal_pronouns= pp(newsent)\n",
        "len(personal_pronouns)"
      ],
      "metadata": {
        "id": "DrPr0g42QQ1U",
        "colab": {
          "base_uri": "https://localhost:8080/"
        },
        "outputId": "6ee3fe07-9b07-42a0-e667-d4747f3267f0"
      },
      "execution_count": null,
      "outputs": [
        {
          "output_type": "execute_result",
          "data": {
            "text/plain": [
              "114"
            ]
          },
          "metadata": {},
          "execution_count": 73
        }
      ]
    },
    {
      "cell_type": "code",
      "source": [
        "personal_pronouns[0]"
      ],
      "metadata": {
        "colab": {
          "base_uri": "https://localhost:8080/"
        },
        "id": "oUwKHIIYLXIs",
        "outputId": "147ffb4f-987b-4c75-fa53-9198f7ff933d"
      },
      "execution_count": null,
      "outputs": [
        {
          "output_type": "execute_result",
          "data": {
            "text/plain": [
              "29"
            ]
          },
          "metadata": {},
          "execution_count": 74
        }
      ]
    },
    {
      "cell_type": "markdown",
      "source": [
        "Average Word Length\n"
      ],
      "metadata": {
        "id": "UmnH8yTkQRK1"
      }
    },
    {
      "cell_type": "code",
      "source": [
        "def avgwordlen(allwords):\n",
        "  avgwordlen = []\n",
        "  for i in allwords:\n",
        "    s = 0\n",
        "    for j in range(len(i)):\n",
        "      s+=(len(i[j])/len(i))\n",
        "    avgwordlen.append(s)\n",
        "  return avgwordlen\n",
        "avgwordlen = avgwordlen(allwords)"
      ],
      "metadata": {
        "id": "emuYgnAkQTUY"
      },
      "execution_count": null,
      "outputs": []
    },
    {
      "cell_type": "code",
      "source": [
        "len(avgwordlen)"
      ],
      "metadata": {
        "id": "fxOnMe4YkWK-",
        "colab": {
          "base_uri": "https://localhost:8080/"
        },
        "outputId": "9f8e445f-ac64-4638-fd42-1717929a7fa9"
      },
      "execution_count": null,
      "outputs": [
        {
          "output_type": "execute_result",
          "data": {
            "text/plain": [
              "114"
            ]
          },
          "metadata": {},
          "execution_count": 76
        }
      ]
    },
    {
      "cell_type": "markdown",
      "source": [
        "# Output File"
      ],
      "metadata": {
        "id": "dZSROBIaQU4c"
      }
    },
    {
      "cell_type": "code",
      "source": [
        "d = {\"URL_ID\":input['URL_ID'],\"URLs\":input['URL'],\"Positive_Score\":positive_scores,\"Negative_scores\":negative_scores,\"Polarity_Score\":polarity_scores,\"Subjectivity_score\":subjectivity_scores,\"AVG sentence len\":avgsenlen,\"Percentage of ComplexWords\":complex_percent,\"FOG index\":fog,\"AVG number of words per sentence\":avgNumWordperSen,\"Complex words count\":complex_word_count,\"Word Count\":wordcount,\"Syllable per word\":sylbsperword,\"Personal Pronouns\":personal_pronouns,\"AVG Word Length\":avgwordlen}\n",
        "df = pd.DataFrame(data=d)\n",
        "df"
      ],
      "metadata": {
        "colab": {
          "base_uri": "https://localhost:8080/",
          "height": 686
        },
        "id": "FW3HLEJm3MaA",
        "outputId": "aabd7160-638b-4ce5-a43d-e80305eeb232"
      },
      "execution_count": null,
      "outputs": [
        {
          "output_type": "execute_result",
          "data": {
            "text/plain": [
              "      URL_ID                                               URLs  \\\n",
              "0      123.0  https://insights.blackcoffer.com/rise-of-telem...   \n",
              "1      321.0  https://insights.blackcoffer.com/rise-of-e-hea...   \n",
              "2     2345.0  https://insights.blackcoffer.com/rise-of-e-hea...   \n",
              "3     4321.0  https://insights.blackcoffer.com/rise-of-telem...   \n",
              "4      432.0  https://insights.blackcoffer.com/rise-of-telem...   \n",
              "..       ...                                                ...   \n",
              "109  50921.0  https://insights.blackcoffer.com/coronavirus-i...   \n",
              "110  51382.8  https://insights.blackcoffer.com/coronavirus-i...   \n",
              "111  51844.6  https://insights.blackcoffer.com/what-are-the-...   \n",
              "112  52306.4  https://insights.blackcoffer.com/marketing-dri...   \n",
              "113  52768.2  https://insights.blackcoffer.com/continued-dem...   \n",
              "\n",
              "     Positive_Score  Negative_scores  Polarity_Score  Subjectivity_score  \\\n",
              "0                80               24        0.538462            0.122353   \n",
              "1                38               13        0.490196            0.184116   \n",
              "2                21               27       -0.125000            0.088073   \n",
              "3                34               27        0.114754            0.093130   \n",
              "4                34               27        0.114754            0.093130   \n",
              "..              ...              ...             ...                 ...   \n",
              "109               5                7       -0.166667            0.045283   \n",
              "110              24               61       -0.435294            0.087179   \n",
              "111              84               32        0.448276            0.128603   \n",
              "112              24               21        0.066667            0.067873   \n",
              "113              26               20        0.130435            0.123324   \n",
              "\n",
              "     AVG sentence len  Percentage of ComplexWords  FOG index  \\\n",
              "0           15.178571                   14.199759   8.622572   \n",
              "1           14.578947                   19.500000  10.564912   \n",
              "2            8.650794                   16.898793   7.322899   \n",
              "3           14.555556                   16.680162  10.518578   \n",
              "4           14.555556                   16.680162  10.518578   \n",
              "..                ...                         ...        ...   \n",
              "109         18.928571                   13.626834  11.848158   \n",
              "110         88.636364                   15.489614  38.944160   \n",
              "111         15.033333                   17.204932  10.992781   \n",
              "112         12.277778                   13.015184   8.352904   \n",
              "113         15.541667                   21.875000  12.645238   \n",
              "\n",
              "     AVG number of words per sentence  Complex words count  Word Count  \\\n",
              "0                           15.178571                  106         850   \n",
              "1                           14.578947                   71         277   \n",
              "2                            8.650794                  104         545   \n",
              "3                           14.555556                  145         655   \n",
              "4                           14.555556                  145         655   \n",
              "..                                ...                  ...         ...   \n",
              "109                         18.928571                   51         265   \n",
              "110                         88.636364                  147         975   \n",
              "111                         15.033333                  212         902   \n",
              "112                         12.277778                  119         663   \n",
              "113                         15.541667                  108         373   \n",
              "\n",
              "     Syllable per word  Personal Pronouns  AVG Word Length  \n",
              "0             1.997593                 29         5.544525  \n",
              "1             1.953333                 21         5.431667  \n",
              "2             1.792015                 53         5.233983  \n",
              "3             1.859109                 45         5.429150  \n",
              "4             1.859109                 45         5.429150  \n",
              "..                 ...                ...              ...  \n",
              "109           1.775681                 15         5.096436  \n",
              "110           1.784570                105         5.149555  \n",
              "111           1.797416                 47         5.162654  \n",
              "112           1.711497                 69         4.876356  \n",
              "113           1.989583                 31         5.663690  \n",
              "\n",
              "[114 rows x 15 columns]"
            ],
            "text/html": [
              "\n",
              "  <div id=\"df-07430290-96f7-4e40-af2b-edf778eabf36\" class=\"colab-df-container\">\n",
              "    <div>\n",
              "<style scoped>\n",
              "    .dataframe tbody tr th:only-of-type {\n",
              "        vertical-align: middle;\n",
              "    }\n",
              "\n",
              "    .dataframe tbody tr th {\n",
              "        vertical-align: top;\n",
              "    }\n",
              "\n",
              "    .dataframe thead th {\n",
              "        text-align: right;\n",
              "    }\n",
              "</style>\n",
              "<table border=\"1\" class=\"dataframe\">\n",
              "  <thead>\n",
              "    <tr style=\"text-align: right;\">\n",
              "      <th></th>\n",
              "      <th>URL_ID</th>\n",
              "      <th>URLs</th>\n",
              "      <th>Positive_Score</th>\n",
              "      <th>Negative_scores</th>\n",
              "      <th>Polarity_Score</th>\n",
              "      <th>Subjectivity_score</th>\n",
              "      <th>AVG sentence len</th>\n",
              "      <th>Percentage of ComplexWords</th>\n",
              "      <th>FOG index</th>\n",
              "      <th>AVG number of words per sentence</th>\n",
              "      <th>Complex words count</th>\n",
              "      <th>Word Count</th>\n",
              "      <th>Syllable per word</th>\n",
              "      <th>Personal Pronouns</th>\n",
              "      <th>AVG Word Length</th>\n",
              "    </tr>\n",
              "  </thead>\n",
              "  <tbody>\n",
              "    <tr>\n",
              "      <th>0</th>\n",
              "      <td>123.0</td>\n",
              "      <td>https://insights.blackcoffer.com/rise-of-telem...</td>\n",
              "      <td>80</td>\n",
              "      <td>24</td>\n",
              "      <td>0.538462</td>\n",
              "      <td>0.122353</td>\n",
              "      <td>15.178571</td>\n",
              "      <td>14.199759</td>\n",
              "      <td>8.622572</td>\n",
              "      <td>15.178571</td>\n",
              "      <td>106</td>\n",
              "      <td>850</td>\n",
              "      <td>1.997593</td>\n",
              "      <td>29</td>\n",
              "      <td>5.544525</td>\n",
              "    </tr>\n",
              "    <tr>\n",
              "      <th>1</th>\n",
              "      <td>321.0</td>\n",
              "      <td>https://insights.blackcoffer.com/rise-of-e-hea...</td>\n",
              "      <td>38</td>\n",
              "      <td>13</td>\n",
              "      <td>0.490196</td>\n",
              "      <td>0.184116</td>\n",
              "      <td>14.578947</td>\n",
              "      <td>19.500000</td>\n",
              "      <td>10.564912</td>\n",
              "      <td>14.578947</td>\n",
              "      <td>71</td>\n",
              "      <td>277</td>\n",
              "      <td>1.953333</td>\n",
              "      <td>21</td>\n",
              "      <td>5.431667</td>\n",
              "    </tr>\n",
              "    <tr>\n",
              "      <th>2</th>\n",
              "      <td>2345.0</td>\n",
              "      <td>https://insights.blackcoffer.com/rise-of-e-hea...</td>\n",
              "      <td>21</td>\n",
              "      <td>27</td>\n",
              "      <td>-0.125000</td>\n",
              "      <td>0.088073</td>\n",
              "      <td>8.650794</td>\n",
              "      <td>16.898793</td>\n",
              "      <td>7.322899</td>\n",
              "      <td>8.650794</td>\n",
              "      <td>104</td>\n",
              "      <td>545</td>\n",
              "      <td>1.792015</td>\n",
              "      <td>53</td>\n",
              "      <td>5.233983</td>\n",
              "    </tr>\n",
              "    <tr>\n",
              "      <th>3</th>\n",
              "      <td>4321.0</td>\n",
              "      <td>https://insights.blackcoffer.com/rise-of-telem...</td>\n",
              "      <td>34</td>\n",
              "      <td>27</td>\n",
              "      <td>0.114754</td>\n",
              "      <td>0.093130</td>\n",
              "      <td>14.555556</td>\n",
              "      <td>16.680162</td>\n",
              "      <td>10.518578</td>\n",
              "      <td>14.555556</td>\n",
              "      <td>145</td>\n",
              "      <td>655</td>\n",
              "      <td>1.859109</td>\n",
              "      <td>45</td>\n",
              "      <td>5.429150</td>\n",
              "    </tr>\n",
              "    <tr>\n",
              "      <th>4</th>\n",
              "      <td>432.0</td>\n",
              "      <td>https://insights.blackcoffer.com/rise-of-telem...</td>\n",
              "      <td>34</td>\n",
              "      <td>27</td>\n",
              "      <td>0.114754</td>\n",
              "      <td>0.093130</td>\n",
              "      <td>14.555556</td>\n",
              "      <td>16.680162</td>\n",
              "      <td>10.518578</td>\n",
              "      <td>14.555556</td>\n",
              "      <td>145</td>\n",
              "      <td>655</td>\n",
              "      <td>1.859109</td>\n",
              "      <td>45</td>\n",
              "      <td>5.429150</td>\n",
              "    </tr>\n",
              "    <tr>\n",
              "      <th>...</th>\n",
              "      <td>...</td>\n",
              "      <td>...</td>\n",
              "      <td>...</td>\n",
              "      <td>...</td>\n",
              "      <td>...</td>\n",
              "      <td>...</td>\n",
              "      <td>...</td>\n",
              "      <td>...</td>\n",
              "      <td>...</td>\n",
              "      <td>...</td>\n",
              "      <td>...</td>\n",
              "      <td>...</td>\n",
              "      <td>...</td>\n",
              "      <td>...</td>\n",
              "      <td>...</td>\n",
              "    </tr>\n",
              "    <tr>\n",
              "      <th>109</th>\n",
              "      <td>50921.0</td>\n",
              "      <td>https://insights.blackcoffer.com/coronavirus-i...</td>\n",
              "      <td>5</td>\n",
              "      <td>7</td>\n",
              "      <td>-0.166667</td>\n",
              "      <td>0.045283</td>\n",
              "      <td>18.928571</td>\n",
              "      <td>13.626834</td>\n",
              "      <td>11.848158</td>\n",
              "      <td>18.928571</td>\n",
              "      <td>51</td>\n",
              "      <td>265</td>\n",
              "      <td>1.775681</td>\n",
              "      <td>15</td>\n",
              "      <td>5.096436</td>\n",
              "    </tr>\n",
              "    <tr>\n",
              "      <th>110</th>\n",
              "      <td>51382.8</td>\n",
              "      <td>https://insights.blackcoffer.com/coronavirus-i...</td>\n",
              "      <td>24</td>\n",
              "      <td>61</td>\n",
              "      <td>-0.435294</td>\n",
              "      <td>0.087179</td>\n",
              "      <td>88.636364</td>\n",
              "      <td>15.489614</td>\n",
              "      <td>38.944160</td>\n",
              "      <td>88.636364</td>\n",
              "      <td>147</td>\n",
              "      <td>975</td>\n",
              "      <td>1.784570</td>\n",
              "      <td>105</td>\n",
              "      <td>5.149555</td>\n",
              "    </tr>\n",
              "    <tr>\n",
              "      <th>111</th>\n",
              "      <td>51844.6</td>\n",
              "      <td>https://insights.blackcoffer.com/what-are-the-...</td>\n",
              "      <td>84</td>\n",
              "      <td>32</td>\n",
              "      <td>0.448276</td>\n",
              "      <td>0.128603</td>\n",
              "      <td>15.033333</td>\n",
              "      <td>17.204932</td>\n",
              "      <td>10.992781</td>\n",
              "      <td>15.033333</td>\n",
              "      <td>212</td>\n",
              "      <td>902</td>\n",
              "      <td>1.797416</td>\n",
              "      <td>47</td>\n",
              "      <td>5.162654</td>\n",
              "    </tr>\n",
              "    <tr>\n",
              "      <th>112</th>\n",
              "      <td>52306.4</td>\n",
              "      <td>https://insights.blackcoffer.com/marketing-dri...</td>\n",
              "      <td>24</td>\n",
              "      <td>21</td>\n",
              "      <td>0.066667</td>\n",
              "      <td>0.067873</td>\n",
              "      <td>12.277778</td>\n",
              "      <td>13.015184</td>\n",
              "      <td>8.352904</td>\n",
              "      <td>12.277778</td>\n",
              "      <td>119</td>\n",
              "      <td>663</td>\n",
              "      <td>1.711497</td>\n",
              "      <td>69</td>\n",
              "      <td>4.876356</td>\n",
              "    </tr>\n",
              "    <tr>\n",
              "      <th>113</th>\n",
              "      <td>52768.2</td>\n",
              "      <td>https://insights.blackcoffer.com/continued-dem...</td>\n",
              "      <td>26</td>\n",
              "      <td>20</td>\n",
              "      <td>0.130435</td>\n",
              "      <td>0.123324</td>\n",
              "      <td>15.541667</td>\n",
              "      <td>21.875000</td>\n",
              "      <td>12.645238</td>\n",
              "      <td>15.541667</td>\n",
              "      <td>108</td>\n",
              "      <td>373</td>\n",
              "      <td>1.989583</td>\n",
              "      <td>31</td>\n",
              "      <td>5.663690</td>\n",
              "    </tr>\n",
              "  </tbody>\n",
              "</table>\n",
              "<p>114 rows × 15 columns</p>\n",
              "</div>\n",
              "    <div class=\"colab-df-buttons\">\n",
              "\n",
              "  <div class=\"colab-df-container\">\n",
              "    <button class=\"colab-df-convert\" onclick=\"convertToInteractive('df-07430290-96f7-4e40-af2b-edf778eabf36')\"\n",
              "            title=\"Convert this dataframe to an interactive table.\"\n",
              "            style=\"display:none;\">\n",
              "\n",
              "  <svg xmlns=\"http://www.w3.org/2000/svg\" height=\"24px\" viewBox=\"0 -960 960 960\">\n",
              "    <path d=\"M120-120v-720h720v720H120Zm60-500h600v-160H180v160Zm220 220h160v-160H400v160Zm0 220h160v-160H400v160ZM180-400h160v-160H180v160Zm440 0h160v-160H620v160ZM180-180h160v-160H180v160Zm440 0h160v-160H620v160Z\"/>\n",
              "  </svg>\n",
              "    </button>\n",
              "\n",
              "  <style>\n",
              "    .colab-df-container {\n",
              "      display:flex;\n",
              "      gap: 12px;\n",
              "    }\n",
              "\n",
              "    .colab-df-convert {\n",
              "      background-color: #E8F0FE;\n",
              "      border: none;\n",
              "      border-radius: 50%;\n",
              "      cursor: pointer;\n",
              "      display: none;\n",
              "      fill: #1967D2;\n",
              "      height: 32px;\n",
              "      padding: 0 0 0 0;\n",
              "      width: 32px;\n",
              "    }\n",
              "\n",
              "    .colab-df-convert:hover {\n",
              "      background-color: #E2EBFA;\n",
              "      box-shadow: 0px 1px 2px rgba(60, 64, 67, 0.3), 0px 1px 3px 1px rgba(60, 64, 67, 0.15);\n",
              "      fill: #174EA6;\n",
              "    }\n",
              "\n",
              "    .colab-df-buttons div {\n",
              "      margin-bottom: 4px;\n",
              "    }\n",
              "\n",
              "    [theme=dark] .colab-df-convert {\n",
              "      background-color: #3B4455;\n",
              "      fill: #D2E3FC;\n",
              "    }\n",
              "\n",
              "    [theme=dark] .colab-df-convert:hover {\n",
              "      background-color: #434B5C;\n",
              "      box-shadow: 0px 1px 3px 1px rgba(0, 0, 0, 0.15);\n",
              "      filter: drop-shadow(0px 1px 2px rgba(0, 0, 0, 0.3));\n",
              "      fill: #FFFFFF;\n",
              "    }\n",
              "  </style>\n",
              "\n",
              "    <script>\n",
              "      const buttonEl =\n",
              "        document.querySelector('#df-07430290-96f7-4e40-af2b-edf778eabf36 button.colab-df-convert');\n",
              "      buttonEl.style.display =\n",
              "        google.colab.kernel.accessAllowed ? 'block' : 'none';\n",
              "\n",
              "      async function convertToInteractive(key) {\n",
              "        const element = document.querySelector('#df-07430290-96f7-4e40-af2b-edf778eabf36');\n",
              "        const dataTable =\n",
              "          await google.colab.kernel.invokeFunction('convertToInteractive',\n",
              "                                                    [key], {});\n",
              "        if (!dataTable) return;\n",
              "\n",
              "        const docLinkHtml = 'Like what you see? Visit the ' +\n",
              "          '<a target=\"_blank\" href=https://colab.research.google.com/notebooks/data_table.ipynb>data table notebook</a>'\n",
              "          + ' to learn more about interactive tables.';\n",
              "        element.innerHTML = '';\n",
              "        dataTable['output_type'] = 'display_data';\n",
              "        await google.colab.output.renderOutput(dataTable, element);\n",
              "        const docLink = document.createElement('div');\n",
              "        docLink.innerHTML = docLinkHtml;\n",
              "        element.appendChild(docLink);\n",
              "      }\n",
              "    </script>\n",
              "  </div>\n",
              "\n",
              "\n",
              "<div id=\"df-acfe18eb-66ae-440e-b2f4-52ca5e0d9ee9\">\n",
              "  <button class=\"colab-df-quickchart\" onclick=\"quickchart('df-acfe18eb-66ae-440e-b2f4-52ca5e0d9ee9')\"\n",
              "            title=\"Suggest charts.\"\n",
              "            style=\"display:none;\">\n",
              "\n",
              "<svg xmlns=\"http://www.w3.org/2000/svg\" height=\"24px\"viewBox=\"0 0 24 24\"\n",
              "     width=\"24px\">\n",
              "    <g>\n",
              "        <path d=\"M19 3H5c-1.1 0-2 .9-2 2v14c0 1.1.9 2 2 2h14c1.1 0 2-.9 2-2V5c0-1.1-.9-2-2-2zM9 17H7v-7h2v7zm4 0h-2V7h2v10zm4 0h-2v-4h2v4z\"/>\n",
              "    </g>\n",
              "</svg>\n",
              "  </button>\n",
              "\n",
              "<style>\n",
              "  .colab-df-quickchart {\n",
              "    background-color: #E8F0FE;\n",
              "    border: none;\n",
              "    border-radius: 50%;\n",
              "    cursor: pointer;\n",
              "    display: none;\n",
              "    fill: #1967D2;\n",
              "    height: 32px;\n",
              "    padding: 0 0 0 0;\n",
              "    width: 32px;\n",
              "  }\n",
              "\n",
              "  .colab-df-quickchart:hover {\n",
              "    background-color: #E2EBFA;\n",
              "    box-shadow: 0px 1px 2px rgba(60, 64, 67, 0.3), 0px 1px 3px 1px rgba(60, 64, 67, 0.15);\n",
              "    fill: #174EA6;\n",
              "  }\n",
              "\n",
              "  [theme=dark] .colab-df-quickchart {\n",
              "    background-color: #3B4455;\n",
              "    fill: #D2E3FC;\n",
              "  }\n",
              "\n",
              "  [theme=dark] .colab-df-quickchart:hover {\n",
              "    background-color: #434B5C;\n",
              "    box-shadow: 0px 1px 3px 1px rgba(0, 0, 0, 0.15);\n",
              "    filter: drop-shadow(0px 1px 2px rgba(0, 0, 0, 0.3));\n",
              "    fill: #FFFFFF;\n",
              "  }\n",
              "</style>\n",
              "\n",
              "  <script>\n",
              "    async function quickchart(key) {\n",
              "      const charts = await google.colab.kernel.invokeFunction(\n",
              "          'suggestCharts', [key], {});\n",
              "    }\n",
              "    (() => {\n",
              "      let quickchartButtonEl =\n",
              "        document.querySelector('#df-acfe18eb-66ae-440e-b2f4-52ca5e0d9ee9 button');\n",
              "      quickchartButtonEl.style.display =\n",
              "        google.colab.kernel.accessAllowed ? 'block' : 'none';\n",
              "    })();\n",
              "  </script>\n",
              "</div>\n",
              "    </div>\n",
              "  </div>\n"
            ]
          },
          "metadata": {},
          "execution_count": 85
        }
      ]
    },
    {
      "cell_type": "markdown",
      "source": [
        "### Visualzations and EDA"
      ],
      "metadata": {
        "id": "zCG7hrTE9tDz"
      }
    },
    {
      "cell_type": "code",
      "source": [
        "df1 = df.drop(['URL_ID'],axis=1)\n",
        "df1.plot()"
      ],
      "metadata": {
        "colab": {
          "base_uri": "https://localhost:8080/",
          "height": 447
        },
        "id": "EVmRvSPFnI-y",
        "outputId": "94d61ec9-89ed-4908-a257-ce7b33e05929"
      },
      "execution_count": null,
      "outputs": [
        {
          "output_type": "execute_result",
          "data": {
            "text/plain": [
              "<Axes: >"
            ]
          },
          "metadata": {},
          "execution_count": 78
        },
        {
          "output_type": "display_data",
          "data": {
            "text/plain": [
              "<Figure size 640x480 with 1 Axes>"
            ],
            "image/png": "[encoded data removed]"
          },
          "metadata": {}
        }
      ]
    },
    {
      "cell_type": "code",
      "source": [
        "import matplotlib.pyplot as plt\n",
        "y=range(0,114)\n",
        "plt.scatter(y,df['Polarity_Score'])\n",
        "# plt.scatter(y,df['Subjectivity_score'])\n",
        "plt.axhline(y = 0, color = 'r', linestyle = '-')"
      ],
      "metadata": {
        "colab": {
          "base_uri": "https://localhost:8080/",
          "height": 447
        },
        "id": "vtNWm6hvoXua",
        "outputId": "5cfdb3e3-472c-4a14-b271-6403922272bc"
      },
      "execution_count": null,
      "outputs": [
        {
          "output_type": "execute_result",
          "data": {
            "text/plain": [
              "<matplotlib.lines.Line2D at 0x7a6cadcb2b30>"
            ]
          },
          "metadata": {},
          "execution_count": 79
        },
        {
          "output_type": "display_data",
          "data": {
            "text/plain": [
              "<Figure size 640x480 with 1 Axes>"
            ],
            "image/png": "[encoded data removed]"
          },
          "metadata": {}
        }
      ]
    },
    {
      "cell_type": "code",
      "source": [
        "df.describe()"
      ],
      "metadata": {
        "colab": {
          "base_uri": "https://localhost:8080/",
          "height": 372
        },
        "id": "-df5ISuQnQhM",
        "outputId": "e383a860-d168-4acb-efa8-cec8ff06ba20"
      },
      "execution_count": null,
      "outputs": [
        {
          "output_type": "execute_result",
          "data": {
            "text/plain": [
              "            URL_ID  Positive_Score  Negative_scores  Polarity_Score  \\\n",
              "count    114.00000      114.000000       114.000000      114.000000   \n",
              "mean   26676.50000       29.254386        27.035088        0.098820   \n",
              "std    15267.04828       18.391904        21.374838        0.424688   \n",
              "min      123.00000        0.000000         0.000000       -1.000000   \n",
              "25%    13630.65000       17.500000        10.000000       -0.245719   \n",
              "50%    26676.50000       26.000000        24.000000        0.112933   \n",
              "75%    39722.35000       37.500000        38.750000        0.431892   \n",
              "max    52768.20000       84.000000        91.000000        1.000000   \n",
              "\n",
              "       Subjectivity_score  AVG sentence len  Percentage of ComplexWords  \\\n",
              "count          114.000000        114.000000                  114.000000   \n",
              "mean             0.107880         17.187511                    9.615179   \n",
              "std              0.044760         15.570934                    2.669103   \n",
              "min              0.000000          2.000000                    0.000000   \n",
              "25%              0.084056         11.777142                    8.181760   \n",
              "50%              0.103539         14.208815                    9.628911   \n",
              "75%              0.128516         17.366765                   11.315130   \n",
              "max              0.246377        109.571429                   16.071429   \n",
              "\n",
              "        FOG index  AVG number of words per sentence  Complex words count  \\\n",
              "count  114.000000                        114.000000           114.000000   \n",
              "mean    10.721076                         17.187511           104.771930   \n",
              "std      6.348983                         15.570934            56.187114   \n",
              "min      0.800000                          2.000000             0.000000   \n",
              "25%      8.104441                         11.777142            65.000000   \n",
              "50%      9.854328                         14.208815           105.000000   \n",
              "75%     11.614140                         17.366765           144.250000   \n",
              "max     47.289902                        109.571429           259.000000   \n",
              "\n",
              "        Word Count  Syllable per word  Personal Pronouns  AVG Word Length  \n",
              "count   114.000000         114.000000         114.000000       114.000000  \n",
              "mean    530.377193           1.717513          42.912281         4.935204  \n",
              "std     306.197328           0.120215          25.222395         0.335996  \n",
              "min       2.000000           1.462069           0.000000         4.132414  \n",
              "25%     335.250000           1.636810          23.250000         4.715168  \n",
              "50%     516.500000           1.715590          40.000000         4.938340  \n",
              "75%     710.000000           1.793729          60.000000         5.182762  \n",
              "max    2114.000000           2.019608         118.000000         5.663690  "
            ],
            "text/html": [
              "\n",
              "  <div id=\"df-31e50fa9-8797-4e24-9660-96868c238d5d\" class=\"colab-df-container\">\n",
              "    <div>\n",
              "<style scoped>\n",
              "    .dataframe tbody tr th:only-of-type {\n",
              "        vertical-align: middle;\n",
              "    }\n",
              "\n",
              "    .dataframe tbody tr th {\n",
              "        vertical-align: top;\n",
              "    }\n",
              "\n",
              "    .dataframe thead th {\n",
              "        text-align: right;\n",
              "    }\n",
              "</style>\n",
              "<table border=\"1\" class=\"dataframe\">\n",
              "  <thead>\n",
              "    <tr style=\"text-align: right;\">\n",
              "      <th></th>\n",
              "      <th>URL_ID</th>\n",
              "      <th>Positive_Score</th>\n",
              "      <th>Negative_scores</th>\n",
              "      <th>Polarity_Score</th>\n",
              "      <th>Subjectivity_score</th>\n",
              "      <th>AVG sentence len</th>\n",
              "      <th>Percentage of ComplexWords</th>\n",
              "      <th>FOG index</th>\n",
              "      <th>AVG number of words per sentence</th>\n",
              "      <th>Complex words count</th>\n",
              "      <th>Word Count</th>\n",
              "      <th>Syllable per word</th>\n",
              "      <th>Personal Pronouns</th>\n",
              "      <th>AVG Word Length</th>\n",
              "    </tr>\n",
              "  </thead>\n",
              "  <tbody>\n",
              "    <tr>\n",
              "      <th>count</th>\n",
              "      <td>114.00000</td>\n",
              "      <td>114.000000</td>\n",
              "      <td>114.000000</td>\n",
              "      <td>114.000000</td>\n",
              "      <td>114.000000</td>\n",
              "      <td>114.000000</td>\n",
              "      <td>114.000000</td>\n",
              "      <td>114.000000</td>\n",
              "      <td>114.000000</td>\n",
              "      <td>114.000000</td>\n",
              "      <td>114.000000</td>\n",
              "      <td>114.000000</td>\n",
              "      <td>114.000000</td>\n",
              "      <td>114.000000</td>\n",
              "    </tr>\n",
              "    <tr>\n",
              "      <th>mean</th>\n",
              "      <td>26676.50000</td>\n",
              "      <td>29.254386</td>\n",
              "      <td>27.035088</td>\n",
              "      <td>0.098820</td>\n",
              "      <td>0.107880</td>\n",
              "      <td>17.187511</td>\n",
              "      <td>9.615179</td>\n",
              "      <td>10.721076</td>\n",
              "      <td>17.187511</td>\n",
              "      <td>104.771930</td>\n",
              "      <td>530.377193</td>\n",
              "      <td>1.717513</td>\n",
              "      <td>42.912281</td>\n",
              "      <td>4.935204</td>\n",
              "    </tr>\n",
              "    <tr>\n",
              "      <th>std</th>\n",
              "      <td>15267.04828</td>\n",
              "      <td>18.391904</td>\n",
              "      <td>21.374838</td>\n",
              "      <td>0.424688</td>\n",
              "      <td>0.044760</td>\n",
              "      <td>15.570934</td>\n",
              "      <td>2.669103</td>\n",
              "      <td>6.348983</td>\n",
              "      <td>15.570934</td>\n",
              "      <td>56.187114</td>\n",
              "      <td>306.197328</td>\n",
              "      <td>0.120215</td>\n",
              "      <td>25.222395</td>\n",
              "      <td>0.335996</td>\n",
              "    </tr>\n",
              "    <tr>\n",
              "      <th>min</th>\n",
              "      <td>123.00000</td>\n",
              "      <td>0.000000</td>\n",
              "      <td>0.000000</td>\n",
              "      <td>-1.000000</td>\n",
              "      <td>0.000000</td>\n",
              "      <td>2.000000</td>\n",
              "      <td>0.000000</td>\n",
              "      <td>0.800000</td>\n",
              "      <td>2.000000</td>\n",
              "      <td>0.000000</td>\n",
              "      <td>2.000000</td>\n",
              "      <td>1.462069</td>\n",
              "      <td>0.000000</td>\n",
              "      <td>4.132414</td>\n",
              "    </tr>\n",
              "    <tr>\n",
              "      <th>25%</th>\n",
              "      <td>13630.65000</td>\n",
              "      <td>17.500000</td>\n",
              "      <td>10.000000</td>\n",
              "      <td>-0.245719</td>\n",
              "      <td>0.084056</td>\n",
              "      <td>11.777142</td>\n",
              "      <td>8.181760</td>\n",
              "      <td>8.104441</td>\n",
              "      <td>11.777142</td>\n",
              "      <td>65.000000</td>\n",
              "      <td>335.250000</td>\n",
              "      <td>1.636810</td>\n",
              "      <td>23.250000</td>\n",
              "      <td>4.715168</td>\n",
              "    </tr>\n",
              "    <tr>\n",
              "      <th>50%</th>\n",
              "      <td>26676.50000</td>\n",
              "      <td>26.000000</td>\n",
              "      <td>24.000000</td>\n",
              "      <td>0.112933</td>\n",
              "      <td>0.103539</td>\n",
              "      <td>14.208815</td>\n",
              "      <td>9.628911</td>\n",
              "      <td>9.854328</td>\n",
              "      <td>14.208815</td>\n",
              "      <td>105.000000</td>\n",
              "      <td>516.500000</td>\n",
              "      <td>1.715590</td>\n",
              "      <td>40.000000</td>\n",
              "      <td>4.938340</td>\n",
              "    </tr>\n",
              "    <tr>\n",
              "      <th>75%</th>\n",
              "      <td>39722.35000</td>\n",
              "      <td>37.500000</td>\n",
              "      <td>38.750000</td>\n",
              "      <td>0.431892</td>\n",
              "      <td>0.128516</td>\n",
              "      <td>17.366765</td>\n",
              "      <td>11.315130</td>\n",
              "      <td>11.614140</td>\n",
              "      <td>17.366765</td>\n",
              "      <td>144.250000</td>\n",
              "      <td>710.000000</td>\n",
              "      <td>1.793729</td>\n",
              "      <td>60.000000</td>\n",
              "      <td>5.182762</td>\n",
              "    </tr>\n",
              "    <tr>\n",
              "      <th>max</th>\n",
              "      <td>52768.20000</td>\n",
              "      <td>84.000000</td>\n",
              "      <td>91.000000</td>\n",
              "      <td>1.000000</td>\n",
              "      <td>0.246377</td>\n",
              "      <td>109.571429</td>\n",
              "      <td>16.071429</td>\n",
              "      <td>47.289902</td>\n",
              "      <td>109.571429</td>\n",
              "      <td>259.000000</td>\n",
              "      <td>2114.000000</td>\n",
              "      <td>2.019608</td>\n",
              "      <td>118.000000</td>\n",
              "      <td>5.663690</td>\n",
              "    </tr>\n",
              "  </tbody>\n",
              "</table>\n",
              "</div>\n",
              "    <div class=\"colab-df-buttons\">\n",
              "\n",
              "  <div class=\"colab-df-container\">\n",
              "    <button class=\"colab-df-convert\" onclick=\"convertToInteractive('df-31e50fa9-8797-4e24-9660-96868c238d5d')\"\n",
              "            title=\"Convert this dataframe to an interactive table.\"\n",
              "            style=\"display:none;\">\n",
              "\n",
              "  <svg xmlns=\"http://www.w3.org/2000/svg\" height=\"24px\" viewBox=\"0 -960 960 960\">\n",
              "    <path d=\"M120-120v-720h720v720H120Zm60-500h600v-160H180v160Zm220 220h160v-160H400v160Zm0 220h160v-160H400v160ZM180-400h160v-160H180v160Zm440 0h160v-160H620v160ZM180-180h160v-160H180v160Zm440 0h160v-160H620v160Z\"/>\n",
              "  </svg>\n",
              "    </button>\n",
              "\n",
              "  <style>\n",
              "    .colab-df-container {\n",
              "      display:flex;\n",
              "      gap: 12px;\n",
              "    }\n",
              "\n",
              "    .colab-df-convert {\n",
              "      background-color: #E8F0FE;\n",
              "      border: none;\n",
              "      border-radius: 50%;\n",
              "      cursor: pointer;\n",
              "      display: none;\n",
              "      fill: #1967D2;\n",
              "      height: 32px;\n",
              "      padding: 0 0 0 0;\n",
              "      width: 32px;\n",
              "    }\n",
              "\n",
              "    .colab-df-convert:hover {\n",
              "      background-color: #E2EBFA;\n",
              "      box-shadow: 0px 1px 2px rgba(60, 64, 67, 0.3), 0px 1px 3px 1px rgba(60, 64, 67, 0.15);\n",
              "      fill: #174EA6;\n",
              "    }\n",
              "\n",
              "    .colab-df-buttons div {\n",
              "      margin-bottom: 4px;\n",
              "    }\n",
              "\n",
              "    [theme=dark] .colab-df-convert {\n",
              "      background-color: #3B4455;\n",
              "      fill: #D2E3FC;\n",
              "    }\n",
              "\n",
              "    [theme=dark] .colab-df-convert:hover {\n",
              "      background-color: #434B5C;\n",
              "      box-shadow: 0px 1px 3px 1px rgba(0, 0, 0, 0.15);\n",
              "      filter: drop-shadow(0px 1px 2px rgba(0, 0, 0, 0.3));\n",
              "      fill: #FFFFFF;\n",
              "    }\n",
              "  </style>\n",
              "\n",
              "    <script>\n",
              "      const buttonEl =\n",
              "        document.querySelector('#df-31e50fa9-8797-4e24-9660-96868c238d5d button.colab-df-convert');\n",
              "      buttonEl.style.display =\n",
              "        google.colab.kernel.accessAllowed ? 'block' : 'none';\n",
              "\n",
              "      async function convertToInteractive(key) {\n",
              "        const element = document.querySelector('#df-31e50fa9-8797-4e24-9660-96868c238d5d');\n",
              "        const dataTable =\n",
              "          await google.colab.kernel.invokeFunction('convertToInteractive',\n",
              "                                                    [key], {});\n",
              "        if (!dataTable) return;\n",
              "\n",
              "        const docLinkHtml = 'Like what you see? Visit the ' +\n",
              "          '<a target=\"_blank\" href=https://colab.research.google.com/notebooks/data_table.ipynb>data table notebook</a>'\n",
              "          + ' to learn more about interactive tables.';\n",
              "        element.innerHTML = '';\n",
              "        dataTable['output_type'] = 'display_data';\n",
              "        await google.colab.output.renderOutput(dataTable, element);\n",
              "        const docLink = document.createElement('div');\n",
              "        docLink.innerHTML = docLinkHtml;\n",
              "        element.appendChild(docLink);\n",
              "      }\n",
              "    </script>\n",
              "  </div>\n",
              "\n",
              "\n",
              "<div id=\"df-79e206b4-2d81-4b69-adef-64e2da063439\">\n",
              "  <button class=\"colab-df-quickchart\" onclick=\"quickchart('df-79e206b4-2d81-4b69-adef-64e2da063439')\"\n",
              "            title=\"Suggest charts.\"\n",
              "            style=\"display:none;\">\n",
              "\n",
              "<svg xmlns=\"http://www.w3.org/2000/svg\" height=\"24px\"viewBox=\"0 0 24 24\"\n",
              "     width=\"24px\">\n",
              "    <g>\n",
              "        <path d=\"M19 3H5c-1.1 0-2 .9-2 2v14c0 1.1.9 2 2 2h14c1.1 0 2-.9 2-2V5c0-1.1-.9-2-2-2zM9 17H7v-7h2v7zm4 0h-2V7h2v10zm4 0h-2v-4h2v4z\"/>\n",
              "    </g>\n",
              "</svg>\n",
              "  </button>\n",
              "\n",
              "<style>\n",
              "  .colab-df-quickchart {\n",
              "    background-color: #E8F0FE;\n",
              "    border: none;\n",
              "    border-radius: 50%;\n",
              "    cursor: pointer;\n",
              "    display: none;\n",
              "    fill: #1967D2;\n",
              "    height: 32px;\n",
              "    padding: 0 0 0 0;\n",
              "    width: 32px;\n",
              "  }\n",
              "\n",
              "  .colab-df-quickchart:hover {\n",
              "    background-color: #E2EBFA;\n",
              "    box-shadow: 0px 1px 2px rgba(60, 64, 67, 0.3), 0px 1px 3px 1px rgba(60, 64, 67, 0.15);\n",
              "    fill: #174EA6;\n",
              "  }\n",
              "\n",
              "  [theme=dark] .colab-df-quickchart {\n",
              "    background-color: #3B4455;\n",
              "    fill: #D2E3FC;\n",
              "  }\n",
              "\n",
              "  [theme=dark] .colab-df-quickchart:hover {\n",
              "    background-color: #434B5C;\n",
              "    box-shadow: 0px 1px 3px 1px rgba(0, 0, 0, 0.15);\n",
              "    filter: drop-shadow(0px 1px 2px rgba(0, 0, 0, 0.3));\n",
              "    fill: #FFFFFF;\n",
              "  }\n",
              "</style>\n",
              "\n",
              "  <script>\n",
              "    async function quickchart(key) {\n",
              "      const charts = await google.colab.kernel.invokeFunction(\n",
              "          'suggestCharts', [key], {});\n",
              "    }\n",
              "    (() => {\n",
              "      let quickchartButtonEl =\n",
              "        document.querySelector('#df-79e206b4-2d81-4b69-adef-64e2da063439 button');\n",
              "      quickchartButtonEl.style.display =\n",
              "        google.colab.kernel.accessAllowed ? 'block' : 'none';\n",
              "    })();\n",
              "  </script>\n",
              "</div>\n",
              "    </div>\n",
              "  </div>\n"
            ]
          },
          "metadata": {},
          "execution_count": 80
        }
      ]
    },
    {
      "cell_type": "code",
      "source": [
        "df.info()"
      ],
      "metadata": {
        "colab": {
          "base_uri": "https://localhost:8080/"
        },
        "id": "NJE-y639nUI1",
        "outputId": "e79d707f-6793-4c95-ca34-e41f8bb38e13"
      },
      "execution_count": null,
      "outputs": [
        {
          "output_type": "stream",
          "name": "stdout",
          "text": [
            "<class 'pandas.core.frame.DataFrame'>\n",
            "RangeIndex: 114 entries, 0 to 113\n",
            "Data columns (total 15 columns):\n",
            " #   Column                            Non-Null Count  Dtype  \n",
            "---  ------                            --------------  -----  \n",
            " 0   URL_ID                            114 non-null    float64\n",
            " 1   URLs                              114 non-null    object \n",
            " 2   Positive_Score                    114 non-null    int64  \n",
            " 3   Negative_scores                   114 non-null    int64  \n",
            " 4   Polarity_Score                    114 non-null    float64\n",
            " 5   Subjectivity_score                114 non-null    float64\n",
            " 6   AVG sentence len                  114 non-null    float64\n",
            " 7   Percentage of ComplexWords        114 non-null    float64\n",
            " 8   FOG index                         114 non-null    float64\n",
            " 9   AVG number of words per sentence  114 non-null    float64\n",
            " 10  Complex words count               114 non-null    int64  \n",
            " 11  Word Count                        114 non-null    int64  \n",
            " 12  Syllable per word                 114 non-null    float64\n",
            " 13  Personal Pronouns                 114 non-null    int64  \n",
            " 14  AVG Word Length                   114 non-null    float64\n",
            "dtypes: float64(9), int64(5), object(1)\n",
            "memory usage: 13.5+ KB\n"
          ]
        }
      ]
    },
    {
      "cell_type": "markdown",
      "source": [
        "# Saving the Output CSV file"
      ],
      "metadata": {
        "id": "EyT-3tO9Gi_e"
      }
    },
    {
      "cell_type": "code",
      "source": [
        "filename = \"output.csv\"\n",
        "df.to_csv(filename,index = False)\n"
      ],
      "metadata": {
        "id": "phjKDb3WQUHp"
      },
      "execution_count": null,
      "outputs": []
    }
  ]
}